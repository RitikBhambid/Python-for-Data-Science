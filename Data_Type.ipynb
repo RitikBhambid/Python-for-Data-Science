{
 "cells": [
  {
   "cell_type": "markdown",
   "id": "f31d1c5d",
   "metadata": {},
   "source": [
    "In Pyhton we have 7 data type:\n",
    "\n",
    "1] str(sring) -------> text\n",
    "\n",
    "2] int,flot,complex --------> numerical type\n",
    "\n",
    "3] list,tuple,range -------->sequence type\n",
    "\n",
    "4] dict -------> mapping type\n",
    "\n",
    "5] set, frozenset ---------> set type\n",
    "\n",
    "6] boll ---------> boolean type\n",
    "\n",
    "7] bytes,bytearray,memoryview\n",
    "\n"
   ]
  },
  {
   "cell_type": "code",
   "execution_count": 2,
   "id": "ac2032b0",
   "metadata": {},
   "outputs": [
    {
     "name": "stdout",
     "output_type": "stream",
     "text": [
      "<class 'str'>\n"
     ]
    }
   ],
   "source": [
    "x = \"Hello rutik\"\n",
    "print(type(x))   # type() this is a python function we can check data type"
   ]
  },
  {
   "cell_type": "code",
   "execution_count": 5,
   "id": "b374a7c2",
   "metadata": {},
   "outputs": [
    {
     "name": "stdout",
     "output_type": "stream",
     "text": [
      "<class 'int'>\n"
     ]
    }
   ],
   "source": [
    "x = 10\n",
    "print(type(x))   # type() this is a python function we can check data type"
   ]
  },
  {
   "cell_type": "code",
   "execution_count": 4,
   "id": "52ac78a1",
   "metadata": {},
   "outputs": [
    {
     "name": "stdout",
     "output_type": "stream",
     "text": [
      "<class 'float'>\n"
     ]
    }
   ],
   "source": [
    "x = 10.5\n",
    "print(type(x))   # type() this is a python function we can check data type"
   ]
  },
  {
   "cell_type": "code",
   "execution_count": 6,
   "id": "7869a41c",
   "metadata": {},
   "outputs": [
    {
     "name": "stdout",
     "output_type": "stream",
     "text": [
      "<class 'complex'>\n"
     ]
    }
   ],
   "source": [
    "x = 5j\n",
    "print(type(x))   # type() this is a python function we can check data type"
   ]
  },
  {
   "cell_type": "code",
   "execution_count": 7,
   "id": "359a3ab4",
   "metadata": {},
   "outputs": [
    {
     "name": "stdout",
     "output_type": "stream",
     "text": [
      "<class 'list'>\n"
     ]
    }
   ],
   "source": [
    "x = [\"apple\", \"banana\", \"cherry\"]\n",
    "print(type(x))   # type() this is a python function we can check data type"
   ]
  },
  {
   "cell_type": "code",
   "execution_count": 8,
   "id": "b70e4a86",
   "metadata": {},
   "outputs": [
    {
     "name": "stdout",
     "output_type": "stream",
     "text": [
      "<class 'tuple'>\n"
     ]
    }
   ],
   "source": [
    "x = (\"apple\", \"mango\", \"lichi\")\n",
    "print(type(x))   # type() this is a python function we can check data type"
   ]
  },
  {
   "cell_type": "code",
   "execution_count": 10,
   "id": "2b3aa7ab",
   "metadata": {},
   "outputs": [
    {
     "name": "stdout",
     "output_type": "stream",
     "text": [
      "<class 'range'>\n"
     ]
    }
   ],
   "source": [
    "x = range(8)\n",
    "print(type(x))   # type() this is a python function we can check data type"
   ]
  },
  {
   "cell_type": "code",
   "execution_count": 12,
   "id": "898abe0b",
   "metadata": {},
   "outputs": [
    {
     "name": "stdout",
     "output_type": "stream",
     "text": [
      "<class 'dict'>\n"
     ]
    }
   ],
   "source": [
    "x = {\"name\" : \"RUtik\", \"age\" : 20}\n",
    "print(type(x))   # type() this is a python function we can check data type"
   ]
  },
  {
   "cell_type": "code",
   "execution_count": 13,
   "id": "2dc1ed2d",
   "metadata": {},
   "outputs": [
    {
     "name": "stdout",
     "output_type": "stream",
     "text": [
      "<class 'set'>\n"
     ]
    }
   ],
   "source": [
    "x = {\"apple\", \"banana\", \"cherry\"}\n",
    "print(type(x))   # type() this is a python function we can check data type"
   ]
  },
  {
   "cell_type": "code",
   "execution_count": 14,
   "id": "84f03e5f",
   "metadata": {},
   "outputs": [],
   "source": [
    "x = frozenset({\"apple\", \"banana\", \"cherry\"})\n",
    "print(type(x))   # type() this is a python function we can check data type"
   ]
  },
  {
   "cell_type": "code",
   "execution_count": 15,
   "id": "c3c86396",
   "metadata": {},
   "outputs": [
    {
     "name": "stdout",
     "output_type": "stream",
     "text": [
      "<class 'bool'>\n"
     ]
    }
   ],
   "source": [
    "x = True\n",
    "print(type(x))   # type() this is a python function we can check data type"
   ]
  },
  {
   "cell_type": "code",
   "execution_count": 16,
   "id": "d5eacba8",
   "metadata": {},
   "outputs": [
    {
     "name": "stdout",
     "output_type": "stream",
     "text": [
      "<class 'bytes'>\n"
     ]
    }
   ],
   "source": [
    "x = b\"Hello\"\n",
    "print(type(x))   # type() this is a python function we can check data type"
   ]
  },
  {
   "cell_type": "code",
   "execution_count": 19,
   "id": "c4a57f2e",
   "metadata": {},
   "outputs": [
    {
     "name": "stdout",
     "output_type": "stream",
     "text": [
      "<class 'bytearray'>\n"
     ]
    }
   ],
   "source": [
    "x = bytearray(8)\n",
    "print(type(x))   # type() this is a python function we can check data type"
   ]
  },
  {
   "cell_type": "code",
   "execution_count": 20,
   "id": "024451c4",
   "metadata": {},
   "outputs": [
    {
     "name": "stdout",
     "output_type": "stream",
     "text": [
      "<class 'memoryview'>\n"
     ]
    }
   ],
   "source": [
    "x = memoryview(bytes(8))\n",
    "print(type(x))   # type() this is a python function we can check data type"
   ]
  },
  {
   "cell_type": "markdown",
   "id": "bbdf2b3a",
   "metadata": {},
   "source": [
    "we can also set the specific datatype type its called type casting \n",
    "\n",
    "eg.\n",
    "\n",
    "1] x = \"10\"\n",
    "\n",
    "   int(x)\n",
    "   \n",
    "   print(type(x))"
   ]
  },
  {
   "cell_type": "code",
   "execution_count": null,
   "id": "3c09f941",
   "metadata": {},
   "outputs": [],
   "source": []
  }
 ],
 "metadata": {
  "kernelspec": {
   "display_name": "Python 3 (ipykernel)",
   "language": "python",
   "name": "python3"
  },
  "language_info": {
   "codemirror_mode": {
    "name": "ipython",
    "version": 3
   },
   "file_extension": ".py",
   "mimetype": "text/x-python",
   "name": "python",
   "nbconvert_exporter": "python",
   "pygments_lexer": "ipython3",
   "version": "3.9.7"
  }
 },
 "nbformat": 4,
 "nbformat_minor": 5
}

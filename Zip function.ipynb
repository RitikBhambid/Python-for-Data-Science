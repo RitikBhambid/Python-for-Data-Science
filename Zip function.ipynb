{
 "cells": [
  {
   "cell_type": "markdown",
   "id": "702af567",
   "metadata": {},
   "source": [
    "It is used to map the similar index of multiple containers so that they can be used just using a single entity."
   ]
  },
  {
   "cell_type": "code",
   "execution_count": 1,
   "id": "3f4773e1",
   "metadata": {},
   "outputs": [],
   "source": [
    "a = 'Rutik'\n",
    "b = 'bhambid'"
   ]
  },
  {
   "cell_type": "code",
   "execution_count": 11,
   "id": "94cadc03",
   "metadata": {},
   "outputs": [],
   "source": [
    "tmp=zip(a,b)"
   ]
  },
  {
   "cell_type": "code",
   "execution_count": 12,
   "id": "337153b2",
   "metadata": {},
   "outputs": [
    {
     "data": {
      "text/plain": [
       "<zip at 0x19f603c7cc0>"
      ]
     },
     "execution_count": 12,
     "metadata": {},
     "output_type": "execute_result"
    }
   ],
   "source": [
    "tmp"
   ]
  },
  {
   "cell_type": "code",
   "execution_count": 14,
   "id": "92dffec6",
   "metadata": {},
   "outputs": [
    {
     "data": {
      "text/plain": [
       "[('R', 'b'), ('u', 'h'), ('t', 'a'), ('i', 'm'), ('k', 'b')]"
      ]
     },
     "execution_count": 14,
     "metadata": {},
     "output_type": "execute_result"
    }
   ],
   "source": [
    "list(tmp)"
   ]
  },
  {
   "cell_type": "code",
   "execution_count": null,
   "id": "35281fe1",
   "metadata": {},
   "outputs": [],
   "source": []
  }
 ],
 "metadata": {
  "kernelspec": {
   "display_name": "Python 3 (ipykernel)",
   "language": "python",
   "name": "python3"
  },
  "language_info": {
   "codemirror_mode": {
    "name": "ipython",
    "version": 3
   },
   "file_extension": ".py",
   "mimetype": "text/x-python",
   "name": "python",
   "nbconvert_exporter": "python",
   "pygments_lexer": "ipython3",
   "version": "3.9.7"
  }
 },
 "nbformat": 4,
 "nbformat_minor": 5
}

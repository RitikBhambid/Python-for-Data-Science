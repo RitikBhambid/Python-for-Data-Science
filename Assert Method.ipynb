{
 "cells": [
  {
   "cell_type": "markdown",
   "id": "543d271c",
   "metadata": {},
   "source": [
    "Python provides the assert statement to check if a given logical expression is true or false. Program execution proceeds only if the expression is true and raises the AssertionError when it is false. The following code shows the usage of the assert statement."
   ]
  },
  {
   "cell_type": "code",
   "execution_count": 1,
   "id": "5393a06a",
   "metadata": {},
   "outputs": [],
   "source": [
    "num = 20\n"
   ]
  },
  {
   "cell_type": "code",
   "execution_count": 6,
   "id": "9a8aee78",
   "metadata": {},
   "outputs": [],
   "source": [
    "assert num > 10"
   ]
  },
  {
   "cell_type": "code",
   "execution_count": 4,
   "id": "49d29e0b",
   "metadata": {},
   "outputs": [
    {
     "ename": "AssertionError",
     "evalue": "",
     "output_type": "error",
     "traceback": [
      "\u001b[1;31m---------------------------------------------------------------------------\u001b[0m",
      "\u001b[1;31mAssertionError\u001b[0m                            Traceback (most recent call last)",
      "\u001b[1;32mC:\\Users\\ANTHON~1\\AppData\\Local\\Temp/ipykernel_8404/4258732628.py\u001b[0m in \u001b[0;36m<module>\u001b[1;34m\u001b[0m\n\u001b[1;32m----> 1\u001b[1;33m \u001b[1;32massert\u001b[0m \u001b[0mnum\u001b[0m \u001b[1;33m<\u001b[0m \u001b[1;36m20\u001b[0m\u001b[1;33m\u001b[0m\u001b[1;33m\u001b[0m\u001b[0m\n\u001b[0m",
      "\u001b[1;31mAssertionError\u001b[0m: "
     ]
    }
   ],
   "source": [
    "assert num < 20"
   ]
  },
  {
   "cell_type": "code",
   "execution_count": 5,
   "id": "22644f43",
   "metadata": {},
   "outputs": [],
   "source": [
    "assert num >= 20"
   ]
  },
  {
   "cell_type": "code",
   "execution_count": null,
   "id": "98056629",
   "metadata": {},
   "outputs": [],
   "source": []
  }
 ],
 "metadata": {
  "kernelspec": {
   "display_name": "Python 3 (ipykernel)",
   "language": "python",
   "name": "python3"
  },
  "language_info": {
   "codemirror_mode": {
    "name": "ipython",
    "version": 3
   },
   "file_extension": ".py",
   "mimetype": "text/x-python",
   "name": "python",
   "nbconvert_exporter": "python",
   "pygments_lexer": "ipython3",
   "version": "3.9.7"
  }
 },
 "nbformat": 4,
 "nbformat_minor": 5
}

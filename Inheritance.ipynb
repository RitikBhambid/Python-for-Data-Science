{
 "cells": [
  {
   "cell_type": "markdown",
   "id": "646a67c3",
   "metadata": {},
   "source": []
  },
  {
   "cell_type": "markdown",
   "id": "da51b0d8",
   "metadata": {},
   "source": [
    "Inheritance allows us to define a class that inherits all the method and properties from another"
   ]
  },
  {
   "cell_type": "code",
   "execution_count": null,
   "id": "c58a9385",
   "metadata": {},
   "outputs": [],
   "source": [
    "parent class :- Is the class being inherited from also called base class\n",
    "    \n",
    "Child Cladd :- Is the class that "
   ]
  }
 ],
 "metadata": {
  "kernelspec": {
   "display_name": "Python 3 (ipykernel)",
   "language": "python",
   "name": "python3"
  },
  "language_info": {
   "codemirror_mode": {
    "name": "ipython",
    "version": 3
   },
   "file_extension": ".py",
   "mimetype": "text/x-python",
   "name": "python",
   "nbconvert_exporter": "python",
   "pygments_lexer": "ipython3",
   "version": "3.9.7"
  }
 },
 "nbformat": 4,
 "nbformat_minor": 5
}

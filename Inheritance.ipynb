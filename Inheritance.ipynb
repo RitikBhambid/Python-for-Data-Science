{
 "cells": [
  {
   "cell_type": "markdown",
   "id": "646a67c3",
   "metadata": {},
   "source": []
  },
  {
   "cell_type": "markdown",
   "id": "da51b0d8",
   "metadata": {},
   "source": [
    "Inheritance allows us to define a class that inherits all the method and properties from another"
   ]
  },
  {
   "cell_type": "markdown",
   "id": "e6f930c1",
   "metadata": {},
   "source": [
    "parent class :- Is the class being inherited from also called base class\n",
    "    \n",
    "Child Cladd :- Is the class that inherited from onother class "
   ]
  },
  {
   "cell_type": "code",
   "execution_count": 1,
   "id": "61ea8b88",
   "metadata": {},
   "outputs": [],
   "source": [
    "class A:\n",
    "    def method1(self):\n",
    "        print(\"A class method is called\")"
   ]
  },
  {
   "cell_type": "code",
   "execution_count": 2,
   "id": "3a36b769",
   "metadata": {},
   "outputs": [],
   "source": [
    "class B(A):\n",
    "    def method1(self):\n",
    "        print(\"B class method is called\")\n",
    "    def method2(self):\n",
    "        print(\"B class method2 is called\")"
   ]
  },
  {
   "cell_type": "code",
   "execution_count": null,
   "id": "037015ca",
   "metadata": {},
   "outputs": [],
   "source": []
  }
 ],
 "metadata": {
  "kernelspec": {
   "display_name": "Python 3 (ipykernel)",
   "language": "python",
   "name": "python3"
  },
  "language_info": {
   "codemirror_mode": {
    "name": "ipython",
    "version": 3
   },
   "file_extension": ".py",
   "mimetype": "text/x-python",
   "name": "python",
   "nbconvert_exporter": "python",
   "pygments_lexer": "ipython3",
   "version": "3.9.7"
  }
 },
 "nbformat": 4,
 "nbformat_minor": 5
}

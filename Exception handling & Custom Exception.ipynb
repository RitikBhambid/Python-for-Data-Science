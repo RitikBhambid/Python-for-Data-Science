{
 "cells": [
  {
   "cell_type": "markdown",
   "id": "3f75fcfa",
   "metadata": {},
   "source": [
    "In Python, exceptions can be handled using a try statement. The critical operation which can raise an exception is placed inside the try clause. The code that handles the exceptions is written in the except clause"
   ]
  },
  {
   "cell_type": "code",
   "execution_count": 2,
   "id": "692a47d0",
   "metadata": {},
   "outputs": [
    {
     "name": "stdout",
     "output_type": "stream",
     "text": [
      "unsupported operand type(s) for +: 'int' and 'str'\n"
     ]
    }
   ],
   "source": [
    "try:\n",
    "    ##code block where exception can occur\n",
    "    a=1\n",
    "    b=\"s\"\n",
    "    c=a+b\n",
    "except NameError as ex1:\n",
    "    print(\"The user have not defined the variable\")\n",
    "except Exception as ex:\n",
    "    print(ex)"
   ]
  },
  {
   "cell_type": "markdown",
   "id": "406d8bb1",
   "metadata": {},
   "source": [
    "In python, you can also use the else clause on the try-except block which must be present after all the except clauses"
   ]
  },
  {
   "cell_type": "code",
   "execution_count": 9,
   "id": "3c7eaaca",
   "metadata": {},
   "outputs": [
    {
     "name": "stdout",
     "output_type": "stream",
     "text": [
      "Enter the number 1 0\n",
      "Enter the number 2 0\n",
      "Please provide number greater than 0\n"
     ]
    }
   ],
   "source": [
    "### try else\n",
    "try:\n",
    "    ##code block where exception can occur\n",
    "    a=int(input(\"Enter the number 1 \"))\n",
    "    b=int(input(\"Enter the number 2 \"))\n",
    "    c=a/b\n",
    "    \n",
    "except NameError:\n",
    "    print(\"The user have not defined the variable\")\n",
    "except ZeroDivisionError:\n",
    "    print(\"Please provide number greater than 0\")\n",
    "except TypeError:\n",
    "    print(\"Try to make the datatype similar\")\n",
    "except Exception as ex:\n",
    "    print(ex)\n",
    "else:\n",
    "    print(c)\n",
    "\n",
    "    "
   ]
  },
  {
   "cell_type": "markdown",
   "id": "01ef70ce",
   "metadata": {},
   "source": [
    "Python provides a keyword finally, which is always executed after the try and except blocks. The final block always executes after normal termination of try block or after try block terminates due to some exception."
   ]
  },
  {
   "cell_type": "code",
   "execution_count": 10,
   "id": "aa5ded98",
   "metadata": {},
   "outputs": [
    {
     "name": "stdout",
     "output_type": "stream",
     "text": [
      "Enter the number 1 0\n",
      "Enter the number 2 0\n",
      "Please provide number greater than 0\n",
      "The execution is done\n"
     ]
    }
   ],
   "source": [
    "### try else\n",
    "try:\n",
    "    ##code block where exception can occur\n",
    "    a=int(input(\"Enter the number 1 \"))\n",
    "    b=int(input(\"Enter the number 2 \"))\n",
    "    c=a/b\n",
    "    \n",
    "except NameError:\n",
    "    print(\"The user have not defined the variable\")\n",
    "except ZeroDivisionError:\n",
    "    print(\"Please provide number greater than 0\")\n",
    "except TypeError:\n",
    "    print(\"Try to make the datatype similar\")\n",
    "except Exception as ex:\n",
    "    print(ex)\n",
    "else:\n",
    "    print(c)\n",
    "finally:\n",
    "    print(\"The execution is done\")"
   ]
  },
  {
   "cell_type": "markdown",
   "id": "0f8a0495",
   "metadata": {},
   "source": [
    "The raise statement allows the programmer to force a specific exception to occur. The sole argument in raise indicates the exception to be raised"
   ]
  },
  {
   "cell_type": "code",
   "execution_count": 12,
   "id": "6f8f28e0",
   "metadata": {},
   "outputs": [
    {
     "name": "stdout",
     "output_type": "stream",
     "text": [
      "Enter the year of Birth 18\n",
      "The age is not within the range. You cannot apply for the exams\n"
     ]
    }
   ],
   "source": [
    "class Error(Exception):\n",
    "    pass\n",
    "\n",
    "class dobException(Error):\n",
    "    pass\n",
    "\n",
    "class customgeneric(Error):\n",
    "    pass\n",
    "\n",
    "\n",
    "year=int(input(\"Enter the year of Birth \"))\n",
    "age=2021-year\n",
    "try:\n",
    "    if age<=30 & age>20:\n",
    "        print(\"The age is valid. You can apply for the exams\")\n",
    "    else:\n",
    "        raise dobException\n",
    "except dobException:\n",
    "    print(\"The age is not within the range. You cannot apply for the exams\")"
   ]
  },
  {
   "cell_type": "code",
   "execution_count": null,
   "id": "bb862d58",
   "metadata": {},
   "outputs": [],
   "source": []
  }
 ],
 "metadata": {
  "kernelspec": {
   "display_name": "Python 3 (ipykernel)",
   "language": "python",
   "name": "python3"
  },
  "language_info": {
   "codemirror_mode": {
    "name": "ipython",
    "version": 3
   },
   "file_extension": ".py",
   "mimetype": "text/x-python",
   "name": "python",
   "nbconvert_exporter": "python",
   "pygments_lexer": "ipython3",
   "version": "3.9.7"
  }
 },
 "nbformat": 4,
 "nbformat_minor": 5
}

{
 "cells": [
  {
   "cell_type": "markdown",
   "id": "84444fab",
   "metadata": {},
   "source": [
    "Python uses ‘_’ symbol to determine the access control for a specific data member \n",
    "\n",
    "* We have 3 Access modifier\n",
    "\n",
    "1] Public\n",
    "\n",
    "2] Protected\n",
    "\n",
    "3] Private"
   ]
  },
  {
   "cell_type": "code",
   "execution_count": 32,
   "id": "653b2d18",
   "metadata": {},
   "outputs": [],
   "source": [
    "#Public\n",
    "class Car():\n",
    "    def __init__(self,windows,doors,enginetype):\n",
    "        self.windows = windows\n",
    "        self.doors = doors\n",
    "        self.enginetype = enginetype"
   ]
  },
  {
   "cell_type": "code",
   "execution_count": 33,
   "id": "8a486166",
   "metadata": {},
   "outputs": [],
   "source": [
    "fun=Car(2,4,\"petrol\")  #difine values in function"
   ]
  },
  {
   "cell_type": "code",
   "execution_count": 34,
   "id": "27d29abf",
   "metadata": {},
   "outputs": [
    {
     "data": {
      "text/plain": [
       "4"
      ]
     },
     "execution_count": 34,
     "metadata": {},
     "output_type": "execute_result"
    }
   ],
   "source": [
    "fun.doors             # access values in public access modifier"
   ]
  },
  {
   "cell_type": "code",
   "execution_count": 35,
   "id": "ac084b57",
   "metadata": {},
   "outputs": [],
   "source": [
    "#Protected\n",
    "class Car():\n",
    "    def __init__(self,windows,doors,enginetype):\n",
    "        self._windows = windows\n",
    "        self._doors = doors\n",
    "        self._enginetype = enginetype"
   ]
  },
  {
   "cell_type": "code",
   "execution_count": 36,
   "id": "b522f6f0",
   "metadata": {},
   "outputs": [],
   "source": [
    "fun1=Car(3,5,'solar')"
   ]
  },
  {
   "cell_type": "code",
   "execution_count": 37,
   "id": "1b68c4e4",
   "metadata": {},
   "outputs": [
    {
     "data": {
      "text/plain": [
       "5"
      ]
     },
     "execution_count": 37,
     "metadata": {},
     "output_type": "execute_result"
    }
   ],
   "source": [
    "fun1._doors       # access values in Protected access modifier"
   ]
  },
  {
   "cell_type": "code",
   "execution_count": 38,
   "id": "661e9b16",
   "metadata": {},
   "outputs": [],
   "source": [
    "#Private\n",
    "class Car():\n",
    "    def __init__(self,windows,doors,enginetype):\n",
    "        self.__windows = windows\n",
    "        self.__doors = doors\n",
    "        self.__enginetype = enginetype"
   ]
  },
  {
   "cell_type": "code",
   "execution_count": 39,
   "id": "19dff6c7",
   "metadata": {},
   "outputs": [],
   "source": [
    "fun2=Car(4,2,'disel')"
   ]
  },
  {
   "cell_type": "code",
   "execution_count": 40,
   "id": "1435900f",
   "metadata": {},
   "outputs": [
    {
     "data": {
      "text/plain": [
       "2"
      ]
     },
     "execution_count": 40,
     "metadata": {},
     "output_type": "execute_result"
    }
   ],
   "source": [
    "fun2._Car__doors     # access values in private access modifier"
   ]
  },
  {
   "cell_type": "code",
   "execution_count": null,
   "id": "d8a7b2de",
   "metadata": {},
   "outputs": [],
   "source": []
  }
 ],
 "metadata": {
  "kernelspec": {
   "display_name": "Python 3 (ipykernel)",
   "language": "python",
   "name": "python3"
  },
  "language_info": {
   "codemirror_mode": {
    "name": "ipython",
    "version": 3
   },
   "file_extension": ".py",
   "mimetype": "text/x-python",
   "name": "python",
   "nbconvert_exporter": "python",
   "pygments_lexer": "ipython3",
   "version": "3.9.7"
  }
 },
 "nbformat": 4,
 "nbformat_minor": 5
}

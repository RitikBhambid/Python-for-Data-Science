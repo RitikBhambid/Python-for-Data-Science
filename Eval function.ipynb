{
 "cells": [
  {
   "cell_type": "markdown",
   "id": "92c24475",
   "metadata": {},
   "source": [
    "1) Parse python Expression\n",
    "\n",
    "2) compile into a byte code\n",
    "\n",
    "3) Evaluate the python expression\n",
    "\n",
    "4) It will return the result"
   ]
  },
  {
   "cell_type": "code",
   "execution_count": 1,
   "id": "c357e270",
   "metadata": {},
   "outputs": [
    {
     "name": "stdout",
     "output_type": "stream",
     "text": [
      "x*(x+1)*(x+2)\n",
      "<class 'str'>\n",
      "<class 'int'>\n",
      "60\n",
      "<class 'int'>\n"
     ]
    }
   ],
   "source": [
    "evaluate = 'x*(x+1)*(x+2)'\n",
    "print(evaluate)\n",
    "print(type(evaluate))\n",
    " \n",
    "x = 3\n",
    "print(type(x))\n",
    " \n",
    "expression = eval(evaluate)\n",
    "print(expression)\n",
    "print(type(expression))"
   ]
  },
  {
   "cell_type": "code",
   "execution_count": null,
   "id": "305725c5",
   "metadata": {},
   "outputs": [],
   "source": []
  }
 ],
 "metadata": {
  "kernelspec": {
   "display_name": "Python 3 (ipykernel)",
   "language": "python",
   "name": "python3"
  },
  "language_info": {
   "codemirror_mode": {
    "name": "ipython",
    "version": 3
   },
   "file_extension": ".py",
   "mimetype": "text/x-python",
   "name": "python",
   "nbconvert_exporter": "python",
   "pygments_lexer": "ipython3",
   "version": "3.9.7"
  }
 },
 "nbformat": 4,
 "nbformat_minor": 5
}

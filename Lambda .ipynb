{
 "cells": [
  {
   "cell_type": "markdown",
   "id": "a330102a",
   "metadata": {},
   "source": [
    "This is also known as Anonymous function\n",
    "\n",
    "function with no name\n",
    "\n",
    "it's very fast "
   ]
  },
  {
   "cell_type": "code",
   "execution_count": 6,
   "id": "b184651d",
   "metadata": {},
   "outputs": [],
   "source": [
    "tmp=lambda a : a+10"
   ]
  },
  {
   "cell_type": "code",
   "execution_count": 9,
   "id": "628097c4",
   "metadata": {},
   "outputs": [
    {
     "name": "stdout",
     "output_type": "stream",
     "text": [
      "20\n"
     ]
    }
   ],
   "source": [
    "print(tmp(10))"
   ]
  },
  {
   "cell_type": "code",
   "execution_count": null,
   "id": "b4da3e97",
   "metadata": {},
   "outputs": [],
   "source": []
  }
 ],
 "metadata": {
  "kernelspec": {
   "display_name": "Python 3 (ipykernel)",
   "language": "python",
   "name": "python3"
  },
  "language_info": {
   "codemirror_mode": {
    "name": "ipython",
    "version": 3
   },
   "file_extension": ".py",
   "mimetype": "text/x-python",
   "name": "python",
   "nbconvert_exporter": "python",
   "pygments_lexer": "ipython3",
   "version": "3.9.7"
  }
 },
 "nbformat": 4,
 "nbformat_minor": 5
}
